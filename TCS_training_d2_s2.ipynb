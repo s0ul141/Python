{
 "cells": [
  {
   "cell_type": "markdown",
   "id": "fc06d4ad",
   "metadata": {},
   "source": [
    "### Code 1"
   ]
  },
  {
   "cell_type": "code",
   "execution_count": 2,
   "id": "5701abf7",
   "metadata": {},
   "outputs": [
    {
     "name": "stdout",
     "output_type": "stream",
     "text": [
      "ABCDEKF\n"
     ]
    }
   ],
   "source": [
    "def remove_ef_and_g(input_string):\n",
    "    # Replace \"EF\" and \"G\" with an empty string\n",
    "    output_string = input_string.replace(\"EF\", \"\").replace(\"G\", \"\")\n",
    "    return output_string\n",
    "\n",
    "# Example usage:\n",
    "input_str = \"ABCDEGKFGGG\"\n",
    "output_str = remove_ef_and_g(input_str)\n",
    "print(output_str)  # Output will be: ABCD\n"
   ]
  },
  {
   "cell_type": "markdown",
   "id": "7ec48d10",
   "metadata": {},
   "source": [
    "The person is travelling from place A to place B. He will take 12 hours to reach the destination by roads. As the person starts his journey, he has to note the current time in hours H and minutes M ( non negative integer input ).The task is to find the time left for him to reach the destination (output).If current time (hours or minutes) is a value exceeding 24 hours, the output should be a negative integer value, representing total exceeded hours and minutes (See the Example 3).\n",
    "\n",
    "Input format\n",
    "The candidate has to write the code to accept two inputs separated by a new line.\n",
    "First Input Accept value for hours which is H.\n",
    "Second Input- Accept value for minutes which is M.\n",
    "\n",
    "Output format\n",
    "The output should be time in 24 hour format (Check the output in Example 1 and 2 above). The hours and minutes should be separated by \"::\" without any additional space(See the output in examples). \n",
    "\n",
    "Additional messages in output will cause the failure of test cases.\n",
    "\n",
    "Constraints:\n",
    "0<H<=100\n",
    "0<M<=60\n",
    "\n",
    "Example 1:\n",
    "Input:\n",
    "14         value of H i.e Hours\n",
    "20         value of M i.e Minutes\n",
    "\n",
    "Output:\n",
    "9::40      Time left to reach the destination\n",
    "\n",
    "\n",
    "Example 2:\n",
    "Input:\n",
    "1        value of H i.e Hours\n",
    "15         value of M i.e Minutes\n",
    "\n",
    "Output:\n",
    "22::45     Time left to reach the destination\n",
    "\n",
    "Example 3:\n",
    "Input:\n",
    "30        value of H i.e Hours\n",
    "5          value of M i.e Minutes\n",
    "Output:\n",
    "\n",
    "-6::5       Time left to reach the destination\n",
    "\n",
    "\n"
   ]
  },
  {
   "cell_type": "code",
   "execution_count": 18,
   "id": "e0b3f3b2",
   "metadata": {},
   "outputs": [],
   "source": [
    "def time_left(h,m):\n",
    "    if m==0:\n",
    "        H= 24 - h\n",
    "        print(H, '::', m, 'Time Left to reach the destination')\n",
    "    elif h>24:\n",
    "        H=24 - h\n",
    "        print(H, '::', m, 'Time Left to reach the destination')\n",
    "    else:\n",
    "        H=(24-1) -h\n",
    "        M=60- m\n",
    "        print(H, '::', M, 'Time Left to reach the destination')"
   ]
  },
  {
   "cell_type": "code",
   "execution_count": 19,
   "id": "e00af1d5",
   "metadata": {},
   "outputs": [
    {
     "name": "stdout",
     "output_type": "stream",
     "text": [
      "Enter a value between 0 to 100: 30\n",
      "Enter a value between 0 to 60: 5\n",
      "-6 :: 5 Time Left to reach the destination\n"
     ]
    }
   ],
   "source": [
    "h = int(input(\"Enter a value between 0 to 100: \"))\n",
    "m = int(input(\"Enter a value between 0 to 60: \"))\n",
    "time_left(h, m)"
   ]
  },
  {
   "cell_type": "markdown",
   "id": "e27ee562",
   "metadata": {},
   "source": [
    "A shopkeeper in a nearby town always starts a business ₹0. He never uses the previous days money for transaction. Any item in his shop costs ₹30.There are N number of customers waiting in the queue to buy items. A customer can buy any number of items but worth only ₹30.The customer can transact with shopkeeper only with the denominations ₹30,₹60,₹120.The task here is to find the transaction between the shopkeeper and customer is possible.\n",
    "The customer should be able to buy the item.\n",
    "The amount each customer uses for his transaction is given as array elements .\n",
    "The shopkeeper should be able to return the exact change.\n",
    "Display ‘Transaction Successful’ on the successful transaction with all the customers in the queue.\n",
    "Display ‘Transaction failed’ on the unsuccessful transaction with any one customer in the queue.\n",
    "Example 1\n",
    "\n",
    "Sample Input:\n",
    "3 -> value of N\n",
    "30\n",
    "30\n",
    "\n",
    "60->a[] ,Elements a[0] to a[N-1],where input of each element is seperated by a new line.\n",
    "\n",
    "Sample Output:\n",
    "Transaction successful.\n",
    "\n"
   ]
  },
  {
   "cell_type": "code",
   "execution_count": 36,
   "id": "46d5b841",
   "metadata": {},
   "outputs": [
    {
     "name": "stdout",
     "output_type": "stream",
     "text": [
      "Number of customers 3\n",
      "30\n",
      "60\n",
      "120\n",
      "[30, 60, 120]\n"
     ]
    }
   ],
   "source": [
    "n = int(input(\"Number of customers \"))\n",
    "ar = [int(input()) for i in range(n)]\n",
    "print(ar)\n"
   ]
  },
  {
   "cell_type": "code",
   "execution_count": 38,
   "id": "d2f92359",
   "metadata": {},
   "outputs": [
    {
     "name": "stdout",
     "output_type": "stream",
     "text": [
      "Transaction Successful\n",
      "Transaction Successful\n",
      "Transaction Successful\n"
     ]
    }
   ],
   "source": [
    "\n",
    "if ar[0] == 30:\n",
    "    total = ar[0]\n",
    "    for i in range(n):\n",
    "        if ar[i]<=total :\n",
    "            print(\"Transaction Successful\")\n",
    "            total = total+ar[i]\n",
    "        else:\n",
    "            print(\"Transaction failed\")\n",
    "else:\n",
    "    print(\"Transaction failed\")\n"
   ]
  },
  {
   "cell_type": "code",
   "execution_count": 39,
   "id": "30bbf05d",
   "metadata": {},
   "outputs": [
    {
     "name": "stdout",
     "output_type": "stream",
     "text": [
      "Enter the number of customers: 3\n",
      "30\n",
      "60\n",
      "120\n",
      "Transaction successful.\n"
     ]
    }
   ],
   "source": [
    "def is_transaction_possible(customers):\n",
    "    current_balance = 0\n",
    "    for amount in customers:\n",
    "        if amount == 30:\n",
    "            current_balance += 30\n",
    "        elif amount == 60:\n",
    "            if current_balance >= 30:\n",
    "                current_balance -= 30\n",
    "                current_balance += 60\n",
    "            else:\n",
    "                return False\n",
    "        elif amount == 120:\n",
    "            if current_balance >= 60:\n",
    "                current_balance -= 60\n",
    "                current_balance += 120\n",
    "            elif current_balance >= 30:\n",
    "                current_balance -= 30\n",
    "                current_balance += 120\n",
    "            else:\n",
    "                return False\n",
    "        if current_balance < 0:\n",
    "            return False\n",
    "    return True\n",
    "\n",
    "# Sample Input\n",
    "N = int(input(\"Enter the number of customers: \"))\n",
    "customers = []\n",
    "for _ in range(N):\n",
    "    amount = int(input())\n",
    "    customers.append(amount)\n",
    "\n",
    "# Check if transaction is possible\n",
    "if is_transaction_possible(customers):\n",
    "    print(\"Transaction successful.\")\n",
    "else:\n",
    "    print(\"Transaction failed.\")"
   ]
  }
 ],
 "metadata": {
  "kernelspec": {
   "display_name": "Python 3 (ipykernel)",
   "language": "python",
   "name": "python3"
  },
  "language_info": {
   "codemirror_mode": {
    "name": "ipython",
    "version": 3
   },
   "file_extension": ".py",
   "mimetype": "text/x-python",
   "name": "python",
   "nbconvert_exporter": "python",
   "pygments_lexer": "ipython3",
   "version": "3.11.4"
  }
 },
 "nbformat": 4,
 "nbformat_minor": 5
}
