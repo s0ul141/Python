{
 "cells": [
  {
   "cell_type": "markdown",
   "id": "190531f1",
   "metadata": {},
   "source": [
    "### code 1"
   ]
  },
  {
   "cell_type": "code",
   "execution_count": 16,
   "id": "1f023a2e",
   "metadata": {},
   "outputs": [
    {
     "name": "stdout",
     "output_type": "stream",
     "text": [
      "Pen by boy: 3\n",
      "Eraser by boy: 1\n",
      "Pen by mom: 2\n",
      "Eraser by mom: 1\n"
     ]
    }
   ],
   "source": [
    "boy_pen = int(input(\"Pen by boy: \"))\n",
    "boy_eraser = int(input(\"Eraser by boy: \"))\n",
    "mom_pen=int(input(\"Pen by mom: \"))\n",
    "mom_eraser=int(input(\"Eraser by mom: \"))"
   ]
  },
  {
   "cell_type": "code",
   "execution_count": 6,
   "id": "bae101d1",
   "metadata": {},
   "outputs": [],
   "source": [
    "import math\n",
    "\n",
    "def combination(n, r):\n",
    "    return math.factorial(n) / (math.factorial(r) * math.factorial(n - r))\n"
   ]
  },
  {
   "cell_type": "code",
   "execution_count": 21,
   "id": "d2822392",
   "metadata": {},
   "outputs": [
    {
     "data": {
      "text/plain": [
       "3.0"
      ]
     },
     "execution_count": 21,
     "metadata": {},
     "output_type": "execute_result"
    }
   ],
   "source": [
    "pen= combination(boy_pen, mom_pen)\n",
    "pen"
   ]
  },
  {
   "cell_type": "code",
   "execution_count": 22,
   "id": "c54cc7b7",
   "metadata": {},
   "outputs": [
    {
     "data": {
      "text/plain": [
       "1.0"
      ]
     },
     "execution_count": 22,
     "metadata": {},
     "output_type": "execute_result"
    }
   ],
   "source": [
    "eraser= combination(boy_eraser, mom_eraser)\n",
    "eraser"
   ]
  },
  {
   "cell_type": "code",
   "execution_count": 23,
   "id": "93bb0f14",
   "metadata": {},
   "outputs": [
    {
     "data": {
      "text/plain": [
       "3.0"
      ]
     },
     "execution_count": 23,
     "metadata": {},
     "output_type": "execute_result"
    }
   ],
   "source": [
    "total = pen*eraser\n",
    "total"
   ]
  },
  {
   "cell_type": "code",
   "execution_count": 32,
   "id": "11515e84",
   "metadata": {},
   "outputs": [],
   "source": [
    "def fact(n):\n",
    "    if n==0:\n",
    "        return 1\n",
    "    else:\n",
    "        return n*(fact(n-1))\n",
    "        "
   ]
  },
  {
   "cell_type": "code",
   "execution_count": 37,
   "id": "c35f9055",
   "metadata": {},
   "outputs": [
    {
     "name": "stdout",
     "output_type": "stream",
     "text": [
      "24\n"
     ]
    }
   ],
   "source": [
    "print(fact())"
   ]
  },
  {
   "cell_type": "code",
   "execution_count": 38,
   "id": "a44651f9",
   "metadata": {},
   "outputs": [],
   "source": [
    "def comb(n,r):\n",
    "    return fact(n)/(fact(r)*fact(n-r))"
   ]
  },
  {
   "cell_type": "code",
   "execution_count": 39,
   "id": "b855e9ad",
   "metadata": {},
   "outputs": [
    {
     "name": "stdout",
     "output_type": "stream",
     "text": [
      "15.0\n"
     ]
    }
   ],
   "source": [
    "n=6\n",
    "r=4\n",
    "print(comb(n,r))"
   ]
  },
  {
   "cell_type": "markdown",
   "id": "36db15a9",
   "metadata": {},
   "source": [
    "### code 2"
   ]
  },
  {
   "cell_type": "code",
   "execution_count": 68,
   "id": "ece1c3fa",
   "metadata": {},
   "outputs": [
    {
     "name": "stdout",
     "output_type": "stream",
     "text": [
      "Number of Pizzas :8\n",
      "Number flavours :3\n",
      "1,1,1,2,2,3,3,3\n"
     ]
    }
   ],
   "source": [
    "n = int(input(\"Number of Pizzas :\"))\n",
    "k = int(input(\"Number flavours :\"))\n",
    "order = [int(i) for i in input().split(',')]"
   ]
  },
  {
   "cell_type": "code",
   "execution_count": 70,
   "id": "f865b552",
   "metadata": {},
   "outputs": [
    {
     "name": "stdout",
     "output_type": "stream",
     "text": [
      "5\n"
     ]
    }
   ],
   "source": [
    "m_count =0 \n",
    "for i in range(n):\n",
    "    count= 0\n",
    "    while i<n and order[i]<= k-1:\n",
    "        count+=1\n",
    "        i+=1\n",
    "    m_count= max(m_count, count)\n",
    "                \n",
    "            \n",
    "print(m_count)"
   ]
  },
  {
   "cell_type": "markdown",
   "id": "4ae4bd27",
   "metadata": {},
   "source": [
    "### code 3\n",
    "t=nm/k \n",
    "\n",
    "area = 1/2(x1(y2-y3)+x2(y3-y1)+x3(y1-y2))"
   ]
  },
  {
   "cell_type": "code",
   "execution_count": 71,
   "id": "d7b0b0fd",
   "metadata": {},
   "outputs": [
    {
     "name": "stdout",
     "output_type": "stream",
     "text": [
      "4\n",
      "3\n",
      "3\n"
     ]
    }
   ],
   "source": [
    "n= int(input())\n",
    "m= int(input())\n",
    "k= int(input())"
   ]
  },
  {
   "cell_type": "code",
   "execution_count": 83,
   "id": "49a24ec9",
   "metadata": {},
   "outputs": [
    {
     "data": {
      "text/plain": [
       "4.0"
      ]
     },
     "execution_count": 83,
     "metadata": {},
     "output_type": "execute_result"
    }
   ],
   "source": [
    "T = (n*m)/k\n",
    "T"
   ]
  },
  {
   "cell_type": "markdown",
   "id": "34e0d50e",
   "metadata": {},
   "source": [
    "(0,1), (2,3), (4,1)"
   ]
  },
  {
   "cell_type": "code",
   "execution_count": 92,
   "id": "c3473fd5",
   "metadata": {},
   "outputs": [],
   "source": [
    "def area(x1, y1, x2, y2, x3, y3):\n",
    "    a = abs((0.5*(x1*(y2-y3)+ x2*(y3-y1)+ x3*(y1-y2))))\n",
    "    return a\n"
   ]
  },
  {
   "cell_type": "code",
   "execution_count": 93,
   "id": "0ceb9091",
   "metadata": {},
   "outputs": [
    {
     "data": {
      "text/plain": [
       "4.0"
      ]
     },
     "execution_count": 93,
     "metadata": {},
     "output_type": "execute_result"
    }
   ],
   "source": [
    "ar = area(0,1,2,3,4,1)\n",
    "ar"
   ]
  },
  {
   "cell_type": "code",
   "execution_count": 91,
   "id": "dc46286e",
   "metadata": {},
   "outputs": [
    {
     "name": "stdout",
     "output_type": "stream",
     "text": [
      "True\n"
     ]
    }
   ],
   "source": [
    "if ar==T:\n",
    "    print(\"True\")\n",
    "else :\n",
    "    print(\"False\")"
   ]
  }
 ],
 "metadata": {
  "kernelspec": {
   "display_name": "Python 3 (ipykernel)",
   "language": "python",
   "name": "python3"
  },
  "language_info": {
   "codemirror_mode": {
    "name": "ipython",
    "version": 3
   },
   "file_extension": ".py",
   "mimetype": "text/x-python",
   "name": "python",
   "nbconvert_exporter": "python",
   "pygments_lexer": "ipython3",
   "version": "3.11.4"
  }
 },
 "nbformat": 4,
 "nbformat_minor": 5
}
