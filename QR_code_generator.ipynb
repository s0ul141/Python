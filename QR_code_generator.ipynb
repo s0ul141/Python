{
 "cells": [
  {
   "cell_type": "code",
   "execution_count": 1,
   "id": "6b3f4bca",
   "metadata": {},
   "outputs": [
    {
     "name": "stdout",
     "output_type": "stream",
     "text": [
      "Collecting qrcode[pil]\n",
      "  Downloading qrcode-7.4.2-py3-none-any.whl (46 kB)\n",
      "     ---------------------------------------- 0.0/46.2 kB ? eta -:--:--\n",
      "     -------------------------- ------------- 30.7/46.2 kB 1.3 MB/s eta 0:00:01\n",
      "     -------------------------------------- 46.2/46.2 kB 765.0 kB/s eta 0:00:00\n",
      "Requirement already satisfied: typing-extensions in c:\\users\\kings\\anaconda3\\lib\\site-packages (from qrcode[pil]) (4.7.1)\n",
      "Collecting pypng (from qrcode[pil])\n",
      "  Downloading pypng-0.20220715.0-py3-none-any.whl (58 kB)\n",
      "     ---------------------------------------- 0.0/58.1 kB ? eta -:--:--\n",
      "     --------------------- ------------------ 30.7/58.1 kB 1.4 MB/s eta 0:00:01\n",
      "     -------------------------------------- 58.1/58.1 kB 771.2 kB/s eta 0:00:00\n",
      "Requirement already satisfied: colorama in c:\\users\\kings\\anaconda3\\lib\\site-packages (from qrcode[pil]) (0.4.6)\n",
      "Requirement already satisfied: pillow>=9.1.0 in c:\\users\\kings\\anaconda3\\lib\\site-packages (from qrcode[pil]) (9.4.0)\n",
      "Installing collected packages: pypng, qrcode\n",
      "Successfully installed pypng-0.20220715.0 qrcode-7.4.2\n",
      "Note: you may need to restart the kernel to use updated packages.\n"
     ]
    }
   ],
   "source": [
    "pip install qrcode[pil]\n"
   ]
  },
  {
   "cell_type": "code",
   "execution_count": 11,
   "id": "b93d93da",
   "metadata": {},
   "outputs": [
    {
     "name": "stderr",
     "output_type": "stream",
     "text": [
      "C:\\Users\\kings\\AppData\\Local\\Temp\\ipykernel_11044\\172371339.py:24: DeprecationWarning: textsize is deprecated and will be removed in Pillow 10 (2023-07-01). Use textbbox or textlength instead.\n",
      "  text_width, text_height = draw.textsize(name, font=font)\n"
     ]
    }
   ],
   "source": [
    "import qrcode\n",
    "from PIL import Image, ImageDraw, ImageFont\n",
    "\n",
    "# Replace this with the link you want to convert to a QR code\n",
    "link = \"https://docs.google.com/forms/d/e/1FAIpQLSdLU0BWn55-lIeCSyeNTcI1M6_Nzjt72q1FLiM9WEUK04vQdA/viewform\"\n",
    "\n",
    "# Generate QR code\n",
    "qr = qrcode.QRCode(\n",
    "    version=1,\n",
    "    error_correction=qrcode.constants.ERROR_CORRECT_L,\n",
    "    box_size=15,\n",
    "    border=10,\n",
    ")\n",
    "qr.add_data(link)\n",
    "qr.make(fit=True)\n",
    "\n",
    "# Create an image of the QR code\n",
    "img = qr.make_image(fill_color=\"black\", back_color=\"white\")\n",
    "\n",
    "# Add a name inside the QR code image\n",
    "name = \"Medical_form_please_fill\"\n",
    "font = ImageFont.truetype(\"arial.ttf\", size=50)  # Change the font and size as needed\n",
    "draw = ImageDraw.Draw(img)\n",
    "text_width, text_height = draw.textsize(name, font=font)\n",
    "x_position = (img.size[0] - text_width) // 2\n",
    "y_position = img.size[1] - text_height - 10\n",
    "draw.text((x_position, y_position), name, font=font, fill=\"black\")\n",
    "\n",
    "# Save the image with a custom name\n",
    "custom_filename = \"my_qrcode_with_name.png\"  # Replace with your desired filename\n",
    "img.save(custom_filename)\n",
    "img.show()\n"
   ]
  }
 ],
 "metadata": {
  "kernelspec": {
   "display_name": "Python 3 (ipykernel)",
   "language": "python",
   "name": "python3"
  },
  "language_info": {
   "codemirror_mode": {
    "name": "ipython",
    "version": 3
   },
   "file_extension": ".py",
   "mimetype": "text/x-python",
   "name": "python",
   "nbconvert_exporter": "python",
   "pygments_lexer": "ipython3",
   "version": "3.11.4"
  }
 },
 "nbformat": 4,
 "nbformat_minor": 5
}
