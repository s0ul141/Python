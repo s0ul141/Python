{
 "cells": [
  {
   "cell_type": "markdown",
   "id": "ca5142b3",
   "metadata": {},
   "source": [
    "### Code 1"
   ]
  },
  {
   "cell_type": "code",
   "execution_count": 17,
   "id": "5928af88",
   "metadata": {},
   "outputs": [
    {
     "name": "stdout",
     "output_type": "stream",
     "text": [
      "aabbbaaaa\n",
      "6\n"
     ]
    }
   ],
   "source": [
    "def find_sum_of_even_frequency(string):\n",
    "    summ = 0\n",
    "    count = 0\n",
    "    for i in range(1, len(string)):\n",
    "        if string[i] == string[i-1]:\n",
    "            count += 1\n",
    "        else:\n",
    "            if count % 2 == 0:\n",
    "                summ += count\n",
    "                count = 1\n",
    "# Check the count of the last character sequence\n",
    "    if count % 2 == 0:\n",
    "        summ += count\n",
    "    return summ\n",
    "input_str = input()\n",
    "result = find_sum_of_even_frequency(input_str)\n",
    "print(result)\n"
   ]
  },
  {
   "cell_type": "markdown",
   "id": "c972e579",
   "metadata": {},
   "source": [
    "### Code 2\n",
    "Given N Rupees. A liter plastic bottle of milk costs R1 Rupees and a liter of the\n",
    "glass bottle of milk costs R2 Rupees. But the empty glass bottle after buying can\n",
    "be exchanged for R3 Rupees. Find the maximum liters of milk which can be bought\n",
    "with N Rupees.\n",
    "\n",
    "Example-1:\n",
    "\n",
    "Input:\n",
    "\n",
    "10→Value of N\n",
    "\n",
    "11→Value of R1 i.e. price of plastic bottle\n",
    "\n",
    "9→Value of R2 i.e. price of glass bottle\n",
    "\n",
    "8→Value of R3 i.e. price of empty glass bottle\n",
    "\n",
    "Output:\n",
    "\n",
    "2\n",
    "\n"
   ]
  },
  {
   "cell_type": "code",
   "execution_count": 30,
   "id": "67947489",
   "metadata": {},
   "outputs": [],
   "source": [
    "def max_lits(N, R1, R2, R3):\n",
    "    Total = N+R3\n",
    "    if R1 > R2:\n",
    "        liters = Total//R2\n",
    "    else:\n",
    "        liters = Total//R1\n",
    "    return liters\n",
    "\n",
    "        \n",
    "    "
   ]
  },
  {
   "cell_type": "code",
   "execution_count": 31,
   "id": "a8f0f9ed",
   "metadata": {},
   "outputs": [
    {
     "data": {
      "text/plain": [
       "2"
      ]
     },
     "execution_count": 31,
     "metadata": {},
     "output_type": "execute_result"
    }
   ],
   "source": [
    "max_lits(10,11,9,8)"
   ]
  }
 ],
 "metadata": {
  "kernelspec": {
   "display_name": "Python 3 (ipykernel)",
   "language": "python",
   "name": "python3"
  },
  "language_info": {
   "codemirror_mode": {
    "name": "ipython",
    "version": 3
   },
   "file_extension": ".py",
   "mimetype": "text/x-python",
   "name": "python",
   "nbconvert_exporter": "python",
   "pygments_lexer": "ipython3",
   "version": "3.11.4"
  }
 },
 "nbformat": 4,
 "nbformat_minor": 5
}
